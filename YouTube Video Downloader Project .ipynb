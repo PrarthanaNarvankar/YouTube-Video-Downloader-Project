{
 "cells": [
  {
   "cell_type": "markdown",
   "metadata": {},
   "source": [
    "# Day 7-YouTube Video Downloader Project "
   ]
  },
  {
   "cell_type": "code",
   "execution_count": 2,
   "metadata": {},
   "outputs": [
    {
     "name": "stdout",
     "output_type": "stream",
     "text": [
      "Collecting pytube\n",
      "  Downloading pytube-10.0.0-py3-none-any.whl (40 kB)\n",
      "Requirement already satisfied: typing-extensions in c:\\programdata\\anaconda3\\lib\\site-packages (from pytube) (3.7.4.2)\n",
      "Installing collected packages: pytube\n",
      "Successfully installed pytube-10.0.0\n"
     ]
    }
   ],
   "source": [
    "!pip install pytube"
   ]
  },
  {
   "cell_type": "code",
   "execution_count": 5,
   "metadata": {},
   "outputs": [],
   "source": [
    "from tkinter import *"
   ]
  },
  {
   "cell_type": "code",
   "execution_count": 9,
   "metadata": {},
   "outputs": [],
   "source": [
    "from pytube import YouTube\n",
    "\n",
    "#link=\"https://www.youtube.com/watch?v=cCIGCndSfv4\"\n",
    "root=Tk()\n",
    "\n",
    "root.geometry(\"400x400\")\n",
    "root.title(\"You tube video download\")\n",
    "root.configure(background=\"#F5F5F5\")\n",
    "root.resizable(width=False,height=False)\n",
    "\n",
    "def Youtube():\n",
    "    link=var.get() #https://www.youtube.com/watch?v=cCIGCndSfv4\n",
    "    ytvideo=YouTube(link).streams.filter(file_extension=\"mp4\").order_by('resolution').desc().first()\n",
    "    ytvideo.download(\"E:\\\\LetsUpgrade\")\n",
    "\n",
    "    \n",
    "l1=Label(root,text=\"YouTube Video Link\",fg=\"Red\",font=(\"bold\",20))\n",
    "l1.place(x=30,y=20)\n",
    "\n",
    "var=StringVar()\n",
    "e1=Entry(root,textvariable=var,width=60)\n",
    "e1.place(x=40,y=80)\n",
    "\n",
    "b1=Button(root,text=\"Download\",command=Youtube,bg=\"Green\",width=20,fg=\"White\")\n",
    "b1.place(x=80,y=120)\n",
    "root.mainloop()"
   ]
  },
  {
   "cell_type": "code",
   "execution_count": null,
   "metadata": {},
   "outputs": [],
   "source": []
  }
 ],
 "metadata": {
  "kernelspec": {
   "display_name": "Python 3",
   "language": "python",
   "name": "python3"
  },
  "language_info": {
   "codemirror_mode": {
    "name": "ipython",
    "version": 3
   },
   "file_extension": ".py",
   "mimetype": "text/x-python",
   "name": "python",
   "nbconvert_exporter": "python",
   "pygments_lexer": "ipython3",
   "version": "3.8.3"
  }
 },
 "nbformat": 4,
 "nbformat_minor": 4
}
